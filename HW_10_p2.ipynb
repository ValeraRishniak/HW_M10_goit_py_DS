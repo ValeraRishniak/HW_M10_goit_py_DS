{
  "nbformat": 4,
  "nbformat_minor": 0,
  "metadata": {
    "colab": {
      "provenance": [],
      "gpuType": "T4"
    },
    "kernelspec": {
      "name": "python3",
      "display_name": "Python 3"
    },
    "language_info": {
      "name": "python"
    },
    "accelerator": "GPU"
  },
  "cells": [
    {
      "cell_type": "code",
      "execution_count": null,
      "metadata": {
        "id": "82emtNmJyco7"
      },
      "outputs": [],
      "source": [
        "import pandas as pd\n",
        "import numpy as np\n",
        "import tensorflow as tf\n",
        "import matplotlib.pyplot as plt\n",
        "\n",
        "from keras.applications.vgg16 import VGG16\n",
        "from keras.datasets import fashion_mnist\n",
        "from keras.utils import to_categorical\n",
        "from keras.layers import Flatten, Dense\n",
        "from keras.models import Sequential\n",
        "from keras.optimizers import Adam"
      ]
    },
    {
      "cell_type": "markdown",
      "source": [
        "# Модель-1"
      ],
      "metadata": {
        "id": "TKbERT3hy8oS"
      }
    },
    {
      "cell_type": "code",
      "source": [
        "# Завантажуємо датасет\n",
        "(x_train, y_train), (x_test, y_test) = fashion_mnist.load_data()\n",
        "print(\"x_train original shape\", x_train.shape)\n",
        "print(\"y_train original shape\", y_train.shape)\n",
        "print(\"x_test original shape\", x_test.shape)\n",
        "print(\"y_test original shape\", y_test.shape)"
      ],
      "metadata": {
        "colab": {
          "base_uri": "https://localhost:8080/"
        },
        "id": "F4l5flvZyvJF",
        "outputId": "68ecd70b-1647-471c-a89b-9f6e036940da"
      },
      "execution_count": null,
      "outputs": [
        {
          "output_type": "stream",
          "name": "stdout",
          "text": [
            "x_train original shape (60000, 28, 28)\n",
            "y_train original shape (60000,)\n",
            "x_test original shape (10000, 28, 28)\n",
            "y_test original shape (10000,)\n"
          ]
        }
      ]
    },
    {
      "cell_type": "code",
      "source": [
        "# Змінюємо розмір зображень на 32*32 відповідно до вимог VGG16\n",
        "x_train = tf.image.resize(np.array(x_train)[..., tf.newaxis], (32, 32))\n",
        "x_train = np.repeat(x_train, 3, axis=-1)\n",
        "x_test = tf.image.resize(np.array(x_test)[..., tf.newaxis], (32, 32))\n",
        "x_test = np.repeat(x_test, 3, axis=-1)\n",
        "\n",
        "# Змінюємо значення пікселів з (0, 255) до (0, 1)\n",
        "x_train = np.array(x_train) / 255.0\n",
        "x_test = np.array(x_test) / 255.0"
      ],
      "metadata": {
        "id": "SUp4Xk3ay7jA"
      },
      "execution_count": null,
      "outputs": []
    },
    {
      "cell_type": "code",
      "source": [
        "# перевіряємо оновлений розмір датасету\n",
        "x_train.shape, x_test.shape"
      ],
      "metadata": {
        "colab": {
          "base_uri": "https://localhost:8080/"
        },
        "id": "XZzT_GfGFOi2",
        "outputId": "c9fc59c1-335e-441f-9d23-30e4370e71f5"
      },
      "execution_count": null,
      "outputs": [
        {
          "output_type": "execute_result",
          "data": {
            "text/plain": [
              "((60000, 32, 32, 3), (10000, 32, 32, 3))"
            ]
          },
          "metadata": {},
          "execution_count": 22
        }
      ]
    },
    {
      "cell_type": "code",
      "source": [
        "# Конвертація Labels в інший формат (one hot encoded)\n",
        "y_train = to_categorical(y_train, 10)\n",
        "y_test = to_categorical(y_test, 10)"
      ],
      "metadata": {
        "id": "pL6A5BjUFeZV"
      },
      "execution_count": null,
      "outputs": []
    },
    {
      "cell_type": "code",
      "source": [
        "# Створюємо основу згортки на базі VGG16\n",
        "conv_base = VGG16(weights='imagenet', include_top=False, input_shape=(32, 32, 3))\n",
        "# Відключємо навчання шару\n",
        "conv_base.trainable = False"
      ],
      "metadata": {
        "id": "I-XjOoEOGh6U"
      },
      "execution_count": null,
      "outputs": []
    },
    {
      "cell_type": "code",
      "source": [
        "# Створюємо згорткову нейромережу, що використовує VGG16 як згортковий шар\n",
        "model = Sequential()\n",
        "model.add(conv_base)\n",
        "model.add(Flatten())\n",
        "model.add(Dense(256, activation=\"relu\"))\n",
        "model.add(Dense(10, activation=\"softmax\"))"
      ],
      "metadata": {
        "id": "kuZUkP98Hjxw"
      },
      "execution_count": null,
      "outputs": []
    },
    {
      "cell_type": "code",
      "source": [
        "# Компілюємо модель (підгонка терезів нейромережі)\n",
        "model.compile(optimizer=Adam(),\n",
        "              loss='categorical_crossentropy',\n",
        "              metrics=['accuracy']\n",
        "              )"
      ],
      "metadata": {
        "id": "eWG8H5xBIh_C"
      },
      "execution_count": null,
      "outputs": []
    },
    {
      "cell_type": "code",
      "source": [
        "# дізнаємося архітектуру створеної НМ\n",
        "model.summary()"
      ],
      "metadata": {
        "colab": {
          "base_uri": "https://localhost:8080/"
        },
        "id": "ahWSkdCKIOvw",
        "outputId": "127c5e23-a394-4146-e30b-066a5789b2e5"
      },
      "execution_count": null,
      "outputs": [
        {
          "output_type": "stream",
          "name": "stdout",
          "text": [
            "Model: \"sequential_2\"\n",
            "_________________________________________________________________\n",
            " Layer (type)                Output Shape              Param #   \n",
            "=================================================================\n",
            " vgg16 (Functional)          (None, 1, 1, 512)         14714688  \n",
            "                                                                 \n",
            " flatten_2 (Flatten)         (None, 512)               0         \n",
            "                                                                 \n",
            " dense_4 (Dense)             (None, 256)               131328    \n",
            "                                                                 \n",
            " dense_5 (Dense)             (None, 10)                2570      \n",
            "                                                                 \n",
            "=================================================================\n",
            "Total params: 14848586 (56.64 MB)\n",
            "Trainable params: 133898 (523.04 KB)\n",
            "Non-trainable params: 14714688 (56.13 MB)\n",
            "_________________________________________________________________\n"
          ]
        }
      ]
    },
    {
      "cell_type": "code",
      "source": [
        "# навчання нейронної мережі\n",
        "history = model.fit(x_train,\n",
        "                    y_train,\n",
        "                    epochs=10,\n",
        "                    verbose=1,\n",
        "                    batch_size=64,\n",
        "                    validation_split=0.2\n",
        "                    )"
      ],
      "metadata": {
        "colab": {
          "base_uri": "https://localhost:8080/"
        },
        "id": "9mGqFrrIJBKk",
        "outputId": "0d938c17-2626-407f-ecbd-778c1d2b4af9"
      },
      "execution_count": null,
      "outputs": [
        {
          "output_type": "stream",
          "name": "stdout",
          "text": [
            "Epoch 1/10\n",
            "750/750 [==============================] - 12s 14ms/step - loss: 0.5670 - accuracy: 0.8001 - val_loss: 0.4524 - val_accuracy: 0.8350\n",
            "Epoch 2/10\n",
            "750/750 [==============================] - 10s 13ms/step - loss: 0.4172 - accuracy: 0.8483 - val_loss: 0.4223 - val_accuracy: 0.8456\n",
            "Epoch 3/10\n",
            "750/750 [==============================] - 11s 15ms/step - loss: 0.3821 - accuracy: 0.8583 - val_loss: 0.3953 - val_accuracy: 0.8549\n",
            "Epoch 4/10\n",
            "750/750 [==============================] - 10s 14ms/step - loss: 0.3589 - accuracy: 0.8688 - val_loss: 0.3898 - val_accuracy: 0.8574\n",
            "Epoch 5/10\n",
            "750/750 [==============================] - 10s 13ms/step - loss: 0.3424 - accuracy: 0.8733 - val_loss: 0.3760 - val_accuracy: 0.8637\n",
            "Epoch 6/10\n",
            "750/750 [==============================] - 9s 13ms/step - loss: 0.3279 - accuracy: 0.8791 - val_loss: 0.3780 - val_accuracy: 0.8621\n",
            "Epoch 7/10\n",
            "750/750 [==============================] - 10s 14ms/step - loss: 0.3138 - accuracy: 0.8837 - val_loss: 0.3707 - val_accuracy: 0.8640\n",
            "Epoch 8/10\n",
            "750/750 [==============================] - 10s 13ms/step - loss: 0.3029 - accuracy: 0.8873 - val_loss: 0.3539 - val_accuracy: 0.8689\n",
            "Epoch 9/10\n",
            "750/750 [==============================] - 10s 13ms/step - loss: 0.2940 - accuracy: 0.8906 - val_loss: 0.3701 - val_accuracy: 0.8666\n",
            "Epoch 10/10\n",
            "750/750 [==============================] - 10s 13ms/step - loss: 0.2833 - accuracy: 0.8939 - val_loss: 0.3716 - val_accuracy: 0.8656\n"
          ]
        }
      ]
    },
    {
      "cell_type": "code",
      "source": [
        "# виведемо графік втрат і точності\n",
        "pd.DataFrame(history.history).plot(figsize=(8, 5))\n",
        "plt.grid(True)\n",
        "plt.gca().set_ylim(0, 1)\n",
        "plt.show()"
      ],
      "metadata": {
        "colab": {
          "base_uri": "https://localhost:8080/",
          "height": 451
        },
        "id": "ryjChSvmJ4Gi",
        "outputId": "e384220f-0280-4cd6-d259-3dc20293cae3"
      },
      "execution_count": null,
      "outputs": [
        {
          "output_type": "display_data",
          "data": {
            "text/plain": [
              "<Figure size 800x500 with 1 Axes>"
            ],
            "image/png": "[encoded data removed]"
          },
          "metadata": {}
        }
      ]
    },
    {
      "cell_type": "code",
      "source": [
        "# Оцінка якості моделі-1\n",
        "result = model.evaluate(x_test, y_test)\n",
        "print(f'відсоток вірних відповідей - {round(result[1] * 100, 1)}%')"
      ],
      "metadata": {
        "colab": {
          "base_uri": "https://localhost:8080/"
        },
        "id": "XooO1usqKX_b",
        "outputId": "cf0b4af4-7108-4df1-8674-5e31a440d2a2"
      },
      "execution_count": null,
      "outputs": [
        {
          "output_type": "stream",
          "name": "stdout",
          "text": [
            "313/313 [==============================] - 3s 8ms/step - loss: 0.3860 - accuracy: 0.8653\n",
            "відсоток вірних відповідей - 86.5%\n"
          ]
        }
      ]
    },
    {
      "cell_type": "code",
      "source": [
        "# Виводимо архітектуру нашої згортної основи\n",
        "conv_base.summary()"
      ],
      "metadata": {
        "colab": {
          "base_uri": "https://localhost:8080/"
        },
        "id": "xYoQH-FZKYH8",
        "outputId": "debb79f8-7c5c-4afb-ad33-63511e088de8"
      },
      "execution_count": null,
      "outputs": [
        {
          "output_type": "stream",
          "name": "stdout",
          "text": [
            "Model: \"vgg16\"\n",
            "_________________________________________________________________\n",
            " Layer (type)                Output Shape              Param #   \n",
            "=================================================================\n",
            " input_2 (InputLayer)        [(None, 32, 32, 3)]       0         \n",
            "                                                                 \n",
            " block1_conv1 (Conv2D)       (None, 32, 32, 64)        1792      \n",
            "                                                                 \n",
            " block1_conv2 (Conv2D)       (None, 32, 32, 64)        36928     \n",
            "                                                                 \n",
            " block1_pool (MaxPooling2D)  (None, 16, 16, 64)        0         \n",
            "                                                                 \n",
            " block2_conv1 (Conv2D)       (None, 16, 16, 128)       73856     \n",
            "                                                                 \n",
            " block2_conv2 (Conv2D)       (None, 16, 16, 128)       147584    \n",
            "                                                                 \n",
            " block2_pool (MaxPooling2D)  (None, 8, 8, 128)         0         \n",
            "                                                                 \n",
            " block3_conv1 (Conv2D)       (None, 8, 8, 256)         295168    \n",
            "                                                                 \n",
            " block3_conv2 (Conv2D)       (None, 8, 8, 256)         590080    \n",
            "                                                                 \n",
            " block3_conv3 (Conv2D)       (None, 8, 8, 256)         590080    \n",
            "                                                                 \n",
            " block3_pool (MaxPooling2D)  (None, 4, 4, 256)         0         \n",
            "                                                                 \n",
            " block4_conv1 (Conv2D)       (None, 4, 4, 512)         1180160   \n",
            "                                                                 \n",
            " block4_conv2 (Conv2D)       (None, 4, 4, 512)         2359808   \n",
            "                                                                 \n",
            " block4_conv3 (Conv2D)       (None, 4, 4, 512)         2359808   \n",
            "                                                                 \n",
            " block4_pool (MaxPooling2D)  (None, 2, 2, 512)         0         \n",
            "                                                                 \n",
            " block5_conv1 (Conv2D)       (None, 2, 2, 512)         2359808   \n",
            "                                                                 \n",
            " block5_conv2 (Conv2D)       (None, 2, 2, 512)         2359808   \n",
            "                                                                 \n",
            " block5_conv3 (Conv2D)       (None, 2, 2, 512)         2359808   \n",
            "                                                                 \n",
            " block5_pool (MaxPooling2D)  (None, 1, 1, 512)         0         \n",
            "                                                                 \n",
            "=================================================================\n",
            "Total params: 14714688 (56.13 MB)\n",
            "Trainable params: 0 (0.00 Byte)\n",
            "Non-trainable params: 14714688 (56.13 MB)\n",
            "_________________________________________________________________\n"
          ]
        }
      ]
    },
    {
      "cell_type": "code",
      "source": [
        "# Зробимо донавчання останніх трьох шарів\n",
        "for i, layer in enumerate(model.layers):\n",
        "    layer._name = 'layer_' + str(i)\n",
        "\n",
        "\n",
        "# conv_base = VGG16(weights='imagenet', include_top=False, input_shape=(32, 32, 3))\n",
        "\n",
        "\n",
        "conv_base.trainable = True\n",
        "set_trainable = False\n",
        "for layer in conv_base.layers:\n",
        "    if layer.name == \"block5_conv1\":\n",
        "        set_trainable = True\n",
        "    if set_trainable:\n",
        "        layer.trainable = True\n",
        "    else:\n",
        "        layer.trainable = False\n",
        "\n",
        "\n",
        "modified_model = Sequential([\n",
        "   conv_base,\n",
        "   Flatten(),\n",
        "   Dense(256, activation=\"relu\"),\n",
        "   Dense(10, activation=\"softmax\"),\n",
        "])"
      ],
      "metadata": {
        "id": "b1JFYan7O6GH"
      },
      "execution_count": null,
      "outputs": []
    },
    {
      "cell_type": "code",
      "source": [
        "# Компілюємо модель\n",
        "model.compile(\n",
        "    optimizer=Adam(learning_rate=0.0001),\n",
        "    loss='categorical_crossentropy',\n",
        "    metrics=['accuracy']\n",
        "    )"
      ],
      "metadata": {
        "id": "lvY7Ak00O6JM"
      },
      "execution_count": null,
      "outputs": []
    },
    {
      "cell_type": "code",
      "source": [
        "# навчання нейронної мережі\n",
        "history_modified = model.fit(\n",
        "    x_train,\n",
        "    y_train,\n",
        "    epochs=5,\n",
        "    verbose=1,\n",
        "    batch_size=64,\n",
        "    validation_split=0.2\n",
        ")"
      ],
      "metadata": {
        "id": "hWZnXiBJO6Md",
        "colab": {
          "base_uri": "https://localhost:8080/"
        },
        "outputId": "c1dfcd67-437a-4760-c85e-10740d776f48"
      },
      "execution_count": null,
      "outputs": [
        {
          "output_type": "stream",
          "name": "stdout",
          "text": [
            "Epoch 1/5\n",
            "750/750 [==============================] - 18s 21ms/step - loss: 0.3808 - accuracy: 0.8603 - val_loss: 0.3373 - val_accuracy: 0.8736\n",
            "Epoch 2/5\n",
            "750/750 [==============================] - 16s 21ms/step - loss: 0.2857 - accuracy: 0.8947 - val_loss: 0.2972 - val_accuracy: 0.8928\n",
            "Epoch 3/5\n",
            "750/750 [==============================] - 15s 21ms/step - loss: 0.2479 - accuracy: 0.9074 - val_loss: 0.2894 - val_accuracy: 0.8971\n",
            "Epoch 4/5\n",
            "750/750 [==============================] - 16s 21ms/step - loss: 0.2261 - accuracy: 0.9156 - val_loss: 0.2871 - val_accuracy: 0.8963\n",
            "Epoch 5/5\n",
            "750/750 [==============================] - 16s 21ms/step - loss: 0.2046 - accuracy: 0.9230 - val_loss: 0.2887 - val_accuracy: 0.8978\n"
          ]
        }
      ]
    },
    {
      "cell_type": "code",
      "source": [
        "# виведемо графік втрат і точності\n",
        "pd.DataFrame(history_modified.history).plot(figsize=(8, 5))\n",
        "plt.grid(True)\n",
        "plt.gca().set_ylim(0, 1)\n",
        "plt.show()"
      ],
      "metadata": {
        "id": "2w0O6NIuPTu7",
        "colab": {
          "base_uri": "https://localhost:8080/",
          "height": 451
        },
        "outputId": "cf27b366-6df6-463a-b9ba-b974164bea67"
      },
      "execution_count": null,
      "outputs": [
        {
          "output_type": "display_data",
          "data": {
            "text/plain": [
              "<Figure size 800x500 with 1 Axes>"
            ],
            "image/png": "[encoded data removed]"
          },
          "metadata": {}
        }
      ]
    },
    {
      "cell_type": "code",
      "source": [
        "# Оцінка якості донавченої моделі-1\n",
        "result_modified = model.evaluate(x_test, y_test)\n",
        "print(f'відсоток вірних відповідей - {round(result_modified[1] * 100, 1)}%')"
      ],
      "metadata": {
        "id": "wmTSTgzNPTsV",
        "colab": {
          "base_uri": "https://localhost:8080/"
        },
        "outputId": "ce7ce369-9c9f-4482-9dd3-91a1ef64fc6d"
      },
      "execution_count": null,
      "outputs": [
        {
          "output_type": "stream",
          "name": "stdout",
          "text": [
            "313/313 [==============================] - 3s 8ms/step - loss: 0.3092 - accuracy: 0.8963\n",
            "відсоток вірних відповідей - 89.6%\n"
          ]
        }
      ]
    },
    {
      "cell_type": "code",
      "source": [],
      "metadata": {
        "id": "71d7E6JhPTxd"
      },
      "execution_count": null,
      "outputs": []
    },
    {
      "cell_type": "markdown",
      "source": [
        "Висновок: порівнюючи звичайну згорткову мережу та згорткову мережу, що використовує VGG16 в якості згорткової основи, можемо помітити, що звичайна згортоква мережа показала вищу точність. Навіть з донавчанням трьох останніх шарів в 5 епох, дана створена модель не змогла показати точності звичайної згорткової мережі в 91% якого досягли у моделі-2 в ДЗ-10-1."
      ],
      "metadata": {
        "id": "5oV22P7PYHlc"
      }
    },
    {
      "cell_type": "code",
      "source": [],
      "metadata": {
        "id": "xLZTPyrdPTzX"
      },
      "execution_count": null,
      "outputs": []
    }
  ]
}